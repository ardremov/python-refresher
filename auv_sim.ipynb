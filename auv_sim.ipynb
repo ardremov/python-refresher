{
 "cells": [
  {
   "cell_type": "code",
   "execution_count": 1,
   "metadata": {},
   "outputs": [
    {
     "name": "stdout",
     "output_type": "stream",
     "text": [
      "[0.07 0.05]\n",
      "0.09899494936611665\n"
     ]
    }
   ],
   "source": [
    "import numpy as np\n",
    "import physics\n",
    "import matplotlib.pyplot as plt"
   ]
  },
  {
   "cell_type": "code",
   "execution_count": 2,
   "metadata": {},
   "outputs": [
    {
     "ename": "TypeError",
     "evalue": "Cannot interpret '2' as a data type",
     "output_type": "error",
     "traceback": [
      "\u001b[0;31m---------------------------------------------------------------------------\u001b[0m",
      "\u001b[0;31mTypeError\u001b[0m                                 Traceback (most recent call last)",
      "Cell \u001b[0;32mIn[2], line 3\u001b[0m\n\u001b[1;32m      1\u001b[0m T \u001b[39m=\u001b[39m [\u001b[39m10\u001b[39m, \u001b[39m10\u001b[39m, \u001b[39m10\u001b[39m, \u001b[39m10\u001b[39m]\n\u001b[1;32m      2\u001b[0m alpha \u001b[39m=\u001b[39m \u001b[39m45\u001b[39m\n\u001b[0;32m----> 3\u001b[0m arr \u001b[39m=\u001b[39m \u001b[39mtuple\u001b[39m(physics\u001b[39m.\u001b[39;49msimulate_auv2_motion(T, alpha, \u001b[39m10\u001b[39;49m, \u001b[39m10\u001b[39;49m))\n\u001b[1;32m      4\u001b[0m physics\u001b[39m.\u001b[39mplot_auv2_motion(arr(\u001b[39m0\u001b[39m), arr(\u001b[39m1\u001b[39m), arr(\u001b[39m2\u001b[39m), arr(\u001b[39m3\u001b[39m), arr(\u001b[39m4\u001b[39m), arr(\u001b[39m5\u001b[39m), arr(\u001b[39m6\u001b[39m))\n",
      "File \u001b[0;32m~/python-refresher/physics.py:218\u001b[0m, in \u001b[0;36msimulate_auv2_motion\u001b[0;34m(T, alpha, L, l, mass, inertia, dt, t_final, x0, y0, theta0)\u001b[0m\n\u001b[1;32m    215\u001b[0m theta[\u001b[39m0\u001b[39m] \u001b[39m=\u001b[39m theta0\n\u001b[1;32m    217\u001b[0m omega \u001b[39m=\u001b[39m np\u001b[39m.\u001b[39mzeros_like(t)    \n\u001b[0;32m--> 218\u001b[0m v \u001b[39m=\u001b[39m np\u001b[39m.\u001b[39;49mzeros(\u001b[39mlen\u001b[39;49m(t), \u001b[39m2\u001b[39;49m)\n\u001b[1;32m    219\u001b[0m a \u001b[39m=\u001b[39m np\u001b[39m.\u001b[39mzeros(\u001b[39mlen\u001b[39m(t), \u001b[39m2\u001b[39m)\n\u001b[1;32m    221\u001b[0m angular_a \u001b[39m=\u001b[39m calculate_auv2_angular_acceleration(T, alpha, L, l)\n",
      "\u001b[0;31mTypeError\u001b[0m: Cannot interpret '2' as a data type"
     ]
    }
   ],
   "source": [
    "T = [10, 10, 10, 10]\n",
    "alpha = 45\n",
    "arr = tuple(physics.simulate_auv2_motion(T, alpha, 10, 10))\n",
    "physics.plot_auv2_motion(arr(0), arr(1), arr(2), arr(3), arr(4), arr(5), arr(6))"
   ]
  }
 ],
 "metadata": {
  "kernelspec": {
   "display_name": "python-refresher",
   "language": "python",
   "name": "python3"
  },
  "language_info": {
   "codemirror_mode": {
    "name": "ipython",
    "version": 3
   },
   "file_extension": ".py",
   "mimetype": "text/x-python",
   "name": "python",
   "nbconvert_exporter": "python",
   "pygments_lexer": "ipython3",
   "version": "3.9.2"
  },
  "orig_nbformat": 4
 },
 "nbformat": 4,
 "nbformat_minor": 2
}
