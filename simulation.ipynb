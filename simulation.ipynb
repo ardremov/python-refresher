{
 "cells": [
  {
   "cell_type": "markdown",
   "metadata": {},
   "source": [
    "# Simulation"
   ]
  },
  {
   "cell_type": "code",
   "execution_count": 8,
   "metadata": {},
   "outputs": [],
   "source": [
    "import numpy as np\n",
    "import physics"
   ]
  },
  {
   "cell_type": "markdown",
   "metadata": {},
   "source": [
    "## Parameters"
   ]
  },
  {
   "cell_type": "code",
   "execution_count": 9,
   "metadata": {},
   "outputs": [],
   "source": [
    "density_water = 1000  # kg/m^3\n",
    "density_object = 500  # kg/m^3\n",
    "object_volume = 0.1  # m^3\n",
    "g = 9.81  # m/s^2\n",
    "time_step = 0.01  # s\n",
    "time_max = 10  # s"
   ]
  },
  {
   "cell_type": "code",
   "execution_count": 10,
   "metadata": {},
   "outputs": [],
   "source": [
    "time = 0  # s\n",
    "depth = 0  # m\n",
    "velocity = 0  # m/s\n",
    "acceleration = 0  # m/s^2\n",
    "buoyancy = density_water * g * object_volume # kg/m^3 * m/s^2 * m^3 = kg*m/s^2 = N\n",
    "weight = object_volume * density_object * g # m^3 * kg/m^3 * m/s^2 = kg*m/s^2 = N\n",
    "object_mass = object_volume * density_object # kg"
   ]
  },
  {
   "cell_type": "code",
   "execution_count": 11,
   "metadata": {},
   "outputs": [],
   "source": [
    "# lists for plotting later\n",
    "time = np.arange(0, time_max, time_step)\n",
    "position = np.zeros_like(time)\n",
    "velocity = np.zeros_like(time)\n",
    "acceleration = np.zeros_like(time)"
   ]
  },
  {
   "cell_type": "code",
   "execution_count": 12,
   "metadata": {},
   "outputs": [],
   "source": [
    "# simulation loop\n",
    "for i in range(1, len(time)):\n",
    "    # calculate the force on the object\n",
    "    force = buoyancy - weight\n",
    "    # calculate acceleration\n",
    "    acceleration[i] = force / object_mass\n",
    "    # calculate velocity\n",
    "    velocity[i] = acceleration[i-1] * time_step + velocity[i-1]\n",
    "    # calculate position\n",
    "    position[i] = velocity[i-1] * time_step + position[i-1]\n",
    "    pass"
   ]
  },
  {
   "cell_type": "markdown",
   "metadata": {},
   "source": [
    "# Plot the results"
   ]
  },
  {
   "cell_type": "code",
   "execution_count": 13,
   "metadata": {},
   "outputs": [],
   "source": [
    "import matplotlib.pyplot as plt"
   ]
  },
  {
   "cell_type": "code",
   "execution_count": 14,
   "metadata": {},
   "outputs": [
    {
     "ename": "ValueError",
     "evalue": "Negative or zero arguments.",
     "output_type": "error",
     "traceback": [
      "\u001b[0;31m---------------------------------------------------------------------------\u001b[0m",
      "\u001b[0;31mValueError\u001b[0m                                Traceback (most recent call last)",
      "Cell \u001b[0;32mIn[14], line 10\u001b[0m\n\u001b[1;32m      8\u001b[0m T \u001b[39m=\u001b[39m [\u001b[39m10\u001b[39m, \u001b[39m10\u001b[39m, \u001b[39m10\u001b[39m, \u001b[39m10\u001b[39m]\n\u001b[1;32m      9\u001b[0m alpha \u001b[39m=\u001b[39m \u001b[39m45\u001b[39m\n\u001b[0;32m---> 10\u001b[0m arr \u001b[39m=\u001b[39m \u001b[39mtuple\u001b[39m(physics\u001b[39m.\u001b[39;49msimulate_auv2_motion(T, alpha, \u001b[39m10\u001b[39;49m, \u001b[39m10\u001b[39;49m))\n\u001b[1;32m     11\u001b[0m physics\u001b[39m.\u001b[39mplot_auv2_motion(arr(\u001b[39m0\u001b[39m), arr(\u001b[39m1\u001b[39m), arr(\u001b[39m2\u001b[39m), arr(\u001b[39m3\u001b[39m), arr(\u001b[39m4\u001b[39m), arr(\u001b[39m5\u001b[39m), arr(\u001b[39m6\u001b[39m))\n",
      "File \u001b[0;32m~/python-refresher/physics.py:206\u001b[0m, in \u001b[0;36msimulate_auv2_motion\u001b[0;34m(T, alpha, L, l, mass, inertia, dt, t_final, x0, y0, theta0)\u001b[0m\n\u001b[1;32m    181\u001b[0m \u001b[39m\u001b[39m\u001b[39m'''\u001b[39;00m\n\u001b[1;32m    182\u001b[0m \u001b[39mProblem #10\u001b[39;00m\n\u001b[1;32m    183\u001b[0m \u001b[39ma)\u001b[39;00m\n\u001b[0;32m   (...)\u001b[0m\n\u001b[1;32m    203\u001b[0m \u001b[39ma = np.ndarray of the accelerations of the AUV in m/s^2\u001b[39;00m\n\u001b[1;32m    204\u001b[0m \u001b[39m'''\u001b[39;00m\n\u001b[1;32m    205\u001b[0m \u001b[39mif\u001b[39;00m T \u001b[39mor\u001b[39;00m L \u001b[39mor\u001b[39;00m l \u001b[39mor\u001b[39;00m mass \u001b[39mor\u001b[39;00m t_final \u001b[39m<\u001b[39m\u001b[39m=\u001b[39m \u001b[39m0\u001b[39m:\n\u001b[0;32m--> 206\u001b[0m     \u001b[39mraise\u001b[39;00m \u001b[39mValueError\u001b[39;00m(\u001b[39m\"\u001b[39m\u001b[39mNegative or zero arguments.\u001b[39m\u001b[39m\"\u001b[39m)\n\u001b[1;32m    208\u001b[0m t \u001b[39m=\u001b[39m np\u001b[39m.\u001b[39marange(\u001b[39m0\u001b[39m, t_final, dt)\n\u001b[1;32m    210\u001b[0m x \u001b[39m=\u001b[39m np\u001b[39m.\u001b[39mzeros_like(t)\n",
      "\u001b[0;31mValueError\u001b[0m: Negative or zero arguments."
     ]
    }
   ],
   "source": [
    "\n",
    "# plt.plot(time, position, label=\"Position\")\n",
    "# plt.plot(time, velocity, label=\"Velocity\")\n",
    "# plt.plot(time, acceleration, label=\"Acceleration\")\n",
    "# plt.xlabel(\"Time (s)\")\n",
    "# plt.ylabel(\"Position (m), Velocity (m/s), Acceleration (m/s^2)\")\n",
    "# plt.legend()\n",
    "# plt.show()"
   ]
  }
 ],
 "metadata": {
  "kernelspec": {
   "display_name": "bwsi",
   "language": "python",
   "name": "python3"
  },
  "language_info": {
   "codemirror_mode": {
    "name": "ipython",
    "version": 3
   },
   "file_extension": ".py",
   "mimetype": "text/x-python",
   "name": "python",
   "nbconvert_exporter": "python",
   "pygments_lexer": "ipython3",
   "version": "3.9.2"
  },
  "orig_nbformat": 4
 },
 "nbformat": 4,
 "nbformat_minor": 2
}
